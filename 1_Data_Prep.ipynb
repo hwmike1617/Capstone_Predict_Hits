{
 "cells": [
  {
   "cell_type": "markdown",
   "id": "58e7014a-e95b-4d2a-a2bd-eca4c4c86d5c",
   "metadata": {},
   "source": [
    "# Billboard Hits Prediction\n",
    "\n",
    "## Problem Statement\n",
    "It is widely known that finding a hit song is challenging, especially in the local music industry. However, relying solely on subjective judgment and industry experience may lead to missed opportunities or poor investment decisions. And small or independent record companies with a limited budget do not want to waste time and money in producing and promoting a ‘dud’ or ‘miss’ song.\n",
    "\n",
    "What if the field of data science could lend a hand in this endeavor? Developed an effective Machine Learning model/s which can predict hit songs so as to help all big and small record companies make the right decisions.\n"
   ]
  },
  {
   "cell_type": "markdown",
   "id": "b3c1e4c2-57bd-4156-bb73-766313a3a17a",
   "metadata": {},
   "source": [
    "## Data Sources\n",
    "\n",
    "- Billboard Top 100 Weekly Charts. The charts will provide peak position data on the songs and their corresponding artists from year 1999 to 2019.\n",
    "- Spotify Audio Features and Genres. Audio features and Genres of the respective songs will be scrapped from the Spotify API.\n",
    "- Lyrics of songs. Lyrics of the respective songs will be scrapped from Genius.com."
   ]
  },
  {
   "cell_type": "markdown",
   "id": "d5b6661f-d3b7-412a-b198-ba3392b0ad2b",
   "metadata": {},
   "source": [
    "## Objective\n",
    "\n",
    "According to Google, a song is considered to be a hit once it reaches the Top 40 of the Billboard Top 100 charts. We want to see whether the audio features together with the lyrical content of the songs help to determine a hit song. We will be using Natural Language Processing (NLP) to analyze the lyrics of the songs."
   ]
  },
  {
   "cell_type": "code",
   "execution_count": 1,
   "id": "c305f2b0",
   "metadata": {
    "executionInfo": {
     "elapsed": 10521,
     "status": "ok",
     "timestamp": 1683597475444,
     "user": {
      "displayName": "Wong Michael",
      "userId": "12689415819007949492"
     },
     "user_tz": -480
    },
    "id": "09e85f84"
   },
   "outputs": [],
   "source": [
    "import pandas as pd"
   ]
  },
  {
   "cell_type": "markdown",
   "id": "f3a80ccd-8029-4a1e-8198-75d3b00ba14f",
   "metadata": {},
   "source": [
    "## Reading in Dataset with Missing Lyrics"
   ]
  },
  {
   "cell_type": "code",
   "execution_count": 2,
   "id": "34ccf714",
   "metadata": {},
   "outputs": [],
   "source": [
    "missing_lyrics = pd.read_csv(\"./data/data.csv\", encoding=\"utf-8\")"
   ]
  },
  {
   "cell_type": "code",
   "execution_count": 3,
   "id": "b598d676",
   "metadata": {},
   "outputs": [
    {
     "data": {
      "text/plain": [
       "(9248, 27)"
      ]
     },
     "execution_count": 3,
     "metadata": {},
     "output_type": "execute_result"
    }
   ],
   "source": [
    "missing_lyrics.shape"
   ]
  },
  {
   "cell_type": "markdown",
   "id": "7efdff9c-b406-42ca-b7f7-6d75d4776207",
   "metadata": {},
   "source": [
    "## Reading in Dataset of the Identified Missing Lyrics"
   ]
  },
  {
   "cell_type": "code",
   "execution_count": 4,
   "id": "6813632d",
   "metadata": {},
   "outputs": [],
   "source": [
    "ident_lyrics = pd.read_csv(\"./data/datalyrics.csv\", encoding=\"utf-8\")"
   ]
  },
  {
   "cell_type": "code",
   "execution_count": 5,
   "id": "77546951",
   "metadata": {},
   "outputs": [],
   "source": [
    "# Taking artist,, song and Lyrics columns into consideration\n",
    "ident_lyrics = ident_lyrics[[\"artist\", \"song\", \"Lyrics\"]]"
   ]
  },
  {
   "cell_type": "code",
   "execution_count": 6,
   "id": "3ccd48d3",
   "metadata": {},
   "outputs": [
    {
     "data": {
      "text/plain": [
       "(401, 3)"
      ]
     },
     "execution_count": 6,
     "metadata": {},
     "output_type": "execute_result"
    }
   ],
   "source": [
    "ident_lyrics.shape"
   ]
  },
  {
   "cell_type": "markdown",
   "id": "b41aa497-8520-400f-8806-2c7fa2fc1dde",
   "metadata": {},
   "source": [
    "## Merging the missing lyrics data and the identified missing lyrics data"
   ]
  },
  {
   "cell_type": "code",
   "execution_count": 7,
   "id": "3296214b",
   "metadata": {},
   "outputs": [],
   "source": [
    "# Merge missing_lyrics with ident_lyrics_relevant on 'song' and 'artist'\n",
    "merged_data = missing_lyrics.merge(ident_lyrics, on=['song', 'artist'], how='left', suffixes=('_missing', '_data'))"
   ]
  },
  {
   "cell_type": "code",
   "execution_count": 8,
   "id": "e063c5b3",
   "metadata": {},
   "outputs": [
    {
     "name": "stdout",
     "output_type": "stream",
     "text": [
      "<class 'pandas.core.frame.DataFrame'>\n",
      "Int64Index: 9248 entries, 0 to 9247\n",
      "Data columns (total 28 columns):\n",
      " #   Column             Non-Null Count  Dtype  \n",
      "---  ------             --------------  -----  \n",
      " 0   artist             9248 non-null   object \n",
      " 1   song               9248 non-null   object \n",
      " 2   peak-rank          9248 non-null   int64  \n",
      " 3   Hit or Not         9248 non-null   object \n",
      " 4   Lyrics_missing     8847 non-null   object \n",
      " 5   danceability       9248 non-null   float64\n",
      " 6   energy             9248 non-null   float64\n",
      " 7   key                9248 non-null   int64  \n",
      " 8   loudness           9248 non-null   float64\n",
      " 9   mode               9248 non-null   int64  \n",
      " 10  speechiness        9248 non-null   float64\n",
      " 11  acousticness       9248 non-null   float64\n",
      " 12  instrumentalness   9248 non-null   float64\n",
      " 13  liveness           9248 non-null   float64\n",
      " 14  valence            9248 non-null   float64\n",
      " 15  tempo              9248 non-null   float64\n",
      " 16  type               9248 non-null   object \n",
      " 17  id                 9248 non-null   object \n",
      " 18  uri                9248 non-null   object \n",
      " 19  track_href         9248 non-null   object \n",
      " 20  analysis_url       9248 non-null   object \n",
      " 21  duration_ms        9248 non-null   int64  \n",
      " 22  time_signature     9248 non-null   int64  \n",
      " 23  artist_id          9248 non-null   object \n",
      " 24  track_popularity   9248 non-null   int64  \n",
      " 25  genres             9248 non-null   object \n",
      " 26  artist_popularity  9248 non-null   int64  \n",
      " 27  Lyrics_data        365 non-null    object \n",
      "dtypes: float64(9), int64(7), object(12)\n",
      "memory usage: 2.0+ MB\n"
     ]
    }
   ],
   "source": [
    "merged_data.info()"
   ]
  },
  {
   "cell_type": "markdown",
   "id": "065727cc-769e-45b9-b17a-d94a2b819f72",
   "metadata": {},
   "source": [
    "## Drop all the unnecessary columns"
   ]
  },
  {
   "cell_type": "code",
   "execution_count": 9,
   "id": "c074e7b8-863d-4fa6-874d-ba694b79cb73",
   "metadata": {
    "scrolled": true,
    "tags": []
   },
   "outputs": [],
   "source": [
    "# Initial removal of unimportant columns\n",
    "merged_data.drop(columns=['type','id','uri','track_href','analysis_url','artist_id','track_popularity','artist_popularity'], inplace=True)"
   ]
  },
  {
   "cell_type": "code",
   "execution_count": 10,
   "id": "442abf4b",
   "metadata": {},
   "outputs": [
    {
     "name": "stdout",
     "output_type": "stream",
     "text": [
      "<class 'pandas.core.frame.DataFrame'>\n",
      "Int64Index: 9248 entries, 0 to 9247\n",
      "Data columns (total 20 columns):\n",
      " #   Column            Non-Null Count  Dtype  \n",
      "---  ------            --------------  -----  \n",
      " 0   artist            9248 non-null   object \n",
      " 1   song              9248 non-null   object \n",
      " 2   peak-rank         9248 non-null   int64  \n",
      " 3   Hit or Not        9248 non-null   object \n",
      " 4   Lyrics_missing    9212 non-null   object \n",
      " 5   danceability      9248 non-null   float64\n",
      " 6   energy            9248 non-null   float64\n",
      " 7   key               9248 non-null   int64  \n",
      " 8   loudness          9248 non-null   float64\n",
      " 9   mode              9248 non-null   int64  \n",
      " 10  speechiness       9248 non-null   float64\n",
      " 11  acousticness      9248 non-null   float64\n",
      " 12  instrumentalness  9248 non-null   float64\n",
      " 13  liveness          9248 non-null   float64\n",
      " 14  valence           9248 non-null   float64\n",
      " 15  tempo             9248 non-null   float64\n",
      " 16  duration_ms       9248 non-null   int64  \n",
      " 17  time_signature    9248 non-null   int64  \n",
      " 18  genres            9248 non-null   object \n",
      " 19  Lyrics_data       365 non-null    object \n",
      "dtypes: float64(9), int64(5), object(6)\n",
      "memory usage: 1.5+ MB\n"
     ]
    }
   ],
   "source": [
    "# Use combine_first() to fill in merged_data 'Lyrics_missing' with values from 'Lyrics_data'\n",
    "merged_data['Lyrics_missing'] = merged_data['Lyrics_missing'].combine_first(merged_data['Lyrics_data'])\n",
    "\n",
    "merged_data.info()"
   ]
  },
  {
   "cell_type": "code",
   "execution_count": 11,
   "id": "59bb1aa8",
   "metadata": {},
   "outputs": [],
   "source": [
    "# Drop 'Lyrics_data' column\n",
    "merged_data = merged_data.drop('Lyrics_data', axis=1)"
   ]
  },
  {
   "cell_type": "markdown",
   "id": "729f0c13-8bfe-41cf-9861-5d66af5651bd",
   "metadata": {},
   "source": [
    "## Check for any null values with merged_data"
   ]
  },
  {
   "cell_type": "code",
   "execution_count": 12,
   "id": "22b0c51d",
   "metadata": {},
   "outputs": [
    {
     "data": {
      "text/plain": [
       "artist               0\n",
       "song                 0\n",
       "peak-rank            0\n",
       "Hit or Not           0\n",
       "Lyrics_missing      36\n",
       "danceability         0\n",
       "energy               0\n",
       "key                  0\n",
       "loudness             0\n",
       "mode                 0\n",
       "speechiness          0\n",
       "acousticness         0\n",
       "instrumentalness     0\n",
       "liveness             0\n",
       "valence              0\n",
       "tempo                0\n",
       "duration_ms          0\n",
       "time_signature       0\n",
       "genres               0\n",
       "dtype: int64"
      ]
     },
     "execution_count": 12,
     "metadata": {},
     "output_type": "execute_result"
    }
   ],
   "source": [
    "# Check for any null values with merged_data\n",
    "merged_data.isnull().sum()"
   ]
  },
  {
   "cell_type": "code",
   "execution_count": 13,
   "id": "0d238887",
   "metadata": {},
   "outputs": [],
   "source": [
    "# Drop the rows of merged_data that contains null values\n",
    "merged_data = merged_data.dropna()"
   ]
  },
  {
   "cell_type": "code",
   "execution_count": 14,
   "id": "a5e61aa6",
   "metadata": {
    "scrolled": true,
    "tags": []
   },
   "outputs": [
    {
     "data": {
      "text/html": [
       "<div>\n",
       "<style scoped>\n",
       "    .dataframe tbody tr th:only-of-type {\n",
       "        vertical-align: middle;\n",
       "    }\n",
       "\n",
       "    .dataframe tbody tr th {\n",
       "        vertical-align: top;\n",
       "    }\n",
       "\n",
       "    .dataframe thead th {\n",
       "        text-align: right;\n",
       "    }\n",
       "</style>\n",
       "<table border=\"1\" class=\"dataframe\">\n",
       "  <thead>\n",
       "    <tr style=\"text-align: right;\">\n",
       "      <th></th>\n",
       "      <th>artist</th>\n",
       "      <th>song</th>\n",
       "      <th>peak-rank</th>\n",
       "      <th>Hit or Not</th>\n",
       "      <th>Lyrics_missing</th>\n",
       "      <th>danceability</th>\n",
       "      <th>energy</th>\n",
       "      <th>key</th>\n",
       "      <th>loudness</th>\n",
       "      <th>mode</th>\n",
       "      <th>speechiness</th>\n",
       "      <th>acousticness</th>\n",
       "      <th>instrumentalness</th>\n",
       "      <th>liveness</th>\n",
       "      <th>valence</th>\n",
       "      <th>tempo</th>\n",
       "      <th>duration_ms</th>\n",
       "      <th>time_signature</th>\n",
       "      <th>genres</th>\n",
       "    </tr>\n",
       "  </thead>\n",
       "  <tbody>\n",
       "    <tr>\n",
       "      <th>0</th>\n",
       "      <td>\"Weird Al\" Yankovic</td>\n",
       "      <td>Canadian Idiot</td>\n",
       "      <td>82</td>\n",
       "      <td>non-hit</td>\n",
       "      <td>37 ContributorsCanadian Idiot Lyrics[Verse 1]\\...</td>\n",
       "      <td>0.543</td>\n",
       "      <td>0.697</td>\n",
       "      <td>8</td>\n",
       "      <td>-9.211</td>\n",
       "      <td>1</td>\n",
       "      <td>0.0612</td>\n",
       "      <td>0.00206</td>\n",
       "      <td>0.000002</td>\n",
       "      <td>0.3430</td>\n",
       "      <td>0.861</td>\n",
       "      <td>185.978</td>\n",
       "      <td>143040</td>\n",
       "      <td>4</td>\n",
       "      <td>['comedy rock', 'comic', 'parody']</td>\n",
       "    </tr>\n",
       "    <tr>\n",
       "      <th>1</th>\n",
       "      <td>\"Weird Al\" Yankovic</td>\n",
       "      <td>White &amp; Nerdy</td>\n",
       "      <td>9</td>\n",
       "      <td>hit</td>\n",
       "      <td>99 ContributorsWhite &amp; Nerdy Lyrics[Chorus]\\nT...</td>\n",
       "      <td>0.791</td>\n",
       "      <td>0.613</td>\n",
       "      <td>1</td>\n",
       "      <td>-11.628</td>\n",
       "      <td>0</td>\n",
       "      <td>0.0763</td>\n",
       "      <td>0.09860</td>\n",
       "      <td>0.000000</td>\n",
       "      <td>0.0765</td>\n",
       "      <td>0.896</td>\n",
       "      <td>143.017</td>\n",
       "      <td>170640</td>\n",
       "      <td>4</td>\n",
       "      <td>['comedy rock', 'comic', 'parody']</td>\n",
       "    </tr>\n",
       "    <tr>\n",
       "      <th>2</th>\n",
       "      <td>\"Weird Al\" Yankovic</td>\n",
       "      <td>Word Crimes</td>\n",
       "      <td>39</td>\n",
       "      <td>hit</td>\n",
       "      <td>93 ContributorsWord Crimes Lyrics[Intro]\\nEver...</td>\n",
       "      <td>0.897</td>\n",
       "      <td>0.430</td>\n",
       "      <td>7</td>\n",
       "      <td>-12.759</td>\n",
       "      <td>1</td>\n",
       "      <td>0.0551</td>\n",
       "      <td>0.01180</td>\n",
       "      <td>0.000000</td>\n",
       "      <td>0.0473</td>\n",
       "      <td>0.964</td>\n",
       "      <td>121.987</td>\n",
       "      <td>223120</td>\n",
       "      <td>4</td>\n",
       "      <td>['comedy rock', 'comic', 'parody']</td>\n",
       "    </tr>\n",
       "    <tr>\n",
       "      <th>4</th>\n",
       "      <td>N Sync</td>\n",
       "      <td>Bye Bye Bye</td>\n",
       "      <td>4</td>\n",
       "      <td>hit</td>\n",
       "      <td>58 ContributorsBye Bye Bye Lyrics[Intro: Justi...</td>\n",
       "      <td>0.610</td>\n",
       "      <td>0.926</td>\n",
       "      <td>8</td>\n",
       "      <td>-4.843</td>\n",
       "      <td>0</td>\n",
       "      <td>0.0479</td>\n",
       "      <td>0.03100</td>\n",
       "      <td>0.001200</td>\n",
       "      <td>0.0821</td>\n",
       "      <td>0.861</td>\n",
       "      <td>172.638</td>\n",
       "      <td>200400</td>\n",
       "      <td>4</td>\n",
       "      <td>['boy band', 'dance pop', 'pop']</td>\n",
       "    </tr>\n",
       "    <tr>\n",
       "      <th>5</th>\n",
       "      <td>N Sync</td>\n",
       "      <td>I Drive Myself Crazy</td>\n",
       "      <td>67</td>\n",
       "      <td>non-hit</td>\n",
       "      <td>14 ContributorsThinking of You (I Drive Myself...</td>\n",
       "      <td>0.495</td>\n",
       "      <td>0.704</td>\n",
       "      <td>9</td>\n",
       "      <td>-5.260</td>\n",
       "      <td>1</td>\n",
       "      <td>0.0331</td>\n",
       "      <td>0.01840</td>\n",
       "      <td>0.000000</td>\n",
       "      <td>0.1900</td>\n",
       "      <td>0.407</td>\n",
       "      <td>174.056</td>\n",
       "      <td>239733</td>\n",
       "      <td>4</td>\n",
       "      <td>['boy band', 'dance pop', 'pop']</td>\n",
       "    </tr>\n",
       "    <tr>\n",
       "      <th>...</th>\n",
       "      <td>...</td>\n",
       "      <td>...</td>\n",
       "      <td>...</td>\n",
       "      <td>...</td>\n",
       "      <td>...</td>\n",
       "      <td>...</td>\n",
       "      <td>...</td>\n",
       "      <td>...</td>\n",
       "      <td>...</td>\n",
       "      <td>...</td>\n",
       "      <td>...</td>\n",
       "      <td>...</td>\n",
       "      <td>...</td>\n",
       "      <td>...</td>\n",
       "      <td>...</td>\n",
       "      <td>...</td>\n",
       "      <td>...</td>\n",
       "      <td>...</td>\n",
       "      <td>...</td>\n",
       "    </tr>\n",
       "    <tr>\n",
       "      <th>9243</th>\n",
       "      <td>will.i.am &amp; Nicki Minaj</td>\n",
       "      <td>Check It Out</td>\n",
       "      <td>24</td>\n",
       "      <td>hit</td>\n",
       "      <td>76 ContributorsTranslationsPortuguêsCheck It O...</td>\n",
       "      <td>0.848</td>\n",
       "      <td>0.694</td>\n",
       "      <td>1</td>\n",
       "      <td>-4.272</td>\n",
       "      <td>1</td>\n",
       "      <td>0.0572</td>\n",
       "      <td>0.04930</td>\n",
       "      <td>0.000012</td>\n",
       "      <td>0.1050</td>\n",
       "      <td>0.728</td>\n",
       "      <td>130.075</td>\n",
       "      <td>251013</td>\n",
       "      <td>4</td>\n",
       "      <td>['dance pop', 'pop']</td>\n",
       "    </tr>\n",
       "    <tr>\n",
       "      <th>9244</th>\n",
       "      <td>will.i.am Featuring Justin Bieber</td>\n",
       "      <td>#thatPOWER</td>\n",
       "      <td>17</td>\n",
       "      <td>hit</td>\n",
       "      <td>60 ContributorsTranslationsPortuguês#thatPOWER...</td>\n",
       "      <td>0.797</td>\n",
       "      <td>0.608</td>\n",
       "      <td>6</td>\n",
       "      <td>-6.096</td>\n",
       "      <td>0</td>\n",
       "      <td>0.0584</td>\n",
       "      <td>0.00112</td>\n",
       "      <td>0.000077</td>\n",
       "      <td>0.0748</td>\n",
       "      <td>0.402</td>\n",
       "      <td>127.999</td>\n",
       "      <td>279506</td>\n",
       "      <td>4</td>\n",
       "      <td>['dance pop', 'pop']</td>\n",
       "    </tr>\n",
       "    <tr>\n",
       "      <th>9245</th>\n",
       "      <td>will.i.am Featuring Mick Jagger &amp; Jennifer Lopez</td>\n",
       "      <td>T.H.E (The Hardest Ever)</td>\n",
       "      <td>36</td>\n",
       "      <td>hit</td>\n",
       "      <td>46 ContributorsT.H.E. (The Hardest Ever) Lyric...</td>\n",
       "      <td>0.586</td>\n",
       "      <td>0.712</td>\n",
       "      <td>9</td>\n",
       "      <td>-4.823</td>\n",
       "      <td>1</td>\n",
       "      <td>0.0969</td>\n",
       "      <td>0.10400</td>\n",
       "      <td>0.000006</td>\n",
       "      <td>0.0377</td>\n",
       "      <td>0.450</td>\n",
       "      <td>106.024</td>\n",
       "      <td>287973</td>\n",
       "      <td>4</td>\n",
       "      <td>['dance pop', 'pop']</td>\n",
       "    </tr>\n",
       "    <tr>\n",
       "      <th>9246</th>\n",
       "      <td>will.i.am Featuring Miley Cyrus</td>\n",
       "      <td>Fall Down</td>\n",
       "      <td>58</td>\n",
       "      <td>non-hit</td>\n",
       "      <td>17 ContributorsFall Down Lyrics[Chorus: will.i...</td>\n",
       "      <td>0.619</td>\n",
       "      <td>0.621</td>\n",
       "      <td>0</td>\n",
       "      <td>-5.465</td>\n",
       "      <td>0</td>\n",
       "      <td>0.0357</td>\n",
       "      <td>0.00994</td>\n",
       "      <td>0.003320</td>\n",
       "      <td>0.1210</td>\n",
       "      <td>0.338</td>\n",
       "      <td>127.042</td>\n",
       "      <td>307493</td>\n",
       "      <td>4</td>\n",
       "      <td>['dance pop', 'pop']</td>\n",
       "    </tr>\n",
       "    <tr>\n",
       "      <th>9247</th>\n",
       "      <td>will.i.am Featuring Miley Cyrus, French Montan...</td>\n",
       "      <td>Feelin' Myself</td>\n",
       "      <td>96</td>\n",
       "      <td>non-hit</td>\n",
       "      <td>96 ContributorsFeeling Myself Lyrics[Intro]\\nW...</td>\n",
       "      <td>0.859</td>\n",
       "      <td>0.533</td>\n",
       "      <td>6</td>\n",
       "      <td>-8.590</td>\n",
       "      <td>0</td>\n",
       "      <td>0.1560</td>\n",
       "      <td>0.02930</td>\n",
       "      <td>0.000000</td>\n",
       "      <td>0.1380</td>\n",
       "      <td>0.514</td>\n",
       "      <td>96.453</td>\n",
       "      <td>253546</td>\n",
       "      <td>4</td>\n",
       "      <td>['dance pop', 'pop']</td>\n",
       "    </tr>\n",
       "  </tbody>\n",
       "</table>\n",
       "<p>9212 rows × 19 columns</p>\n",
       "</div>"
      ],
      "text/plain": [
       "                                                 artist  \\\n",
       "0                                   \"Weird Al\" Yankovic   \n",
       "1                                   \"Weird Al\" Yankovic   \n",
       "2                                   \"Weird Al\" Yankovic   \n",
       "4                                                N Sync   \n",
       "5                                                N Sync   \n",
       "...                                                 ...   \n",
       "9243                            will.i.am & Nicki Minaj   \n",
       "9244                  will.i.am Featuring Justin Bieber   \n",
       "9245   will.i.am Featuring Mick Jagger & Jennifer Lopez   \n",
       "9246                    will.i.am Featuring Miley Cyrus   \n",
       "9247  will.i.am Featuring Miley Cyrus, French Montan...   \n",
       "\n",
       "                          song  peak-rank Hit or Not  \\\n",
       "0               Canadian Idiot         82    non-hit   \n",
       "1                White & Nerdy          9        hit   \n",
       "2                  Word Crimes         39        hit   \n",
       "4                  Bye Bye Bye          4        hit   \n",
       "5         I Drive Myself Crazy         67    non-hit   \n",
       "...                        ...        ...        ...   \n",
       "9243              Check It Out         24        hit   \n",
       "9244                #thatPOWER         17        hit   \n",
       "9245  T.H.E (The Hardest Ever)         36        hit   \n",
       "9246                 Fall Down         58    non-hit   \n",
       "9247            Feelin' Myself         96    non-hit   \n",
       "\n",
       "                                         Lyrics_missing  danceability  energy  \\\n",
       "0     37 ContributorsCanadian Idiot Lyrics[Verse 1]\\...         0.543   0.697   \n",
       "1     99 ContributorsWhite & Nerdy Lyrics[Chorus]\\nT...         0.791   0.613   \n",
       "2     93 ContributorsWord Crimes Lyrics[Intro]\\nEver...         0.897   0.430   \n",
       "4     58 ContributorsBye Bye Bye Lyrics[Intro: Justi...         0.610   0.926   \n",
       "5     14 ContributorsThinking of You (I Drive Myself...         0.495   0.704   \n",
       "...                                                 ...           ...     ...   \n",
       "9243  76 ContributorsTranslationsPortuguêsCheck It O...         0.848   0.694   \n",
       "9244  60 ContributorsTranslationsPortuguês#thatPOWER...         0.797   0.608   \n",
       "9245  46 ContributorsT.H.E. (The Hardest Ever) Lyric...         0.586   0.712   \n",
       "9246  17 ContributorsFall Down Lyrics[Chorus: will.i...         0.619   0.621   \n",
       "9247  96 ContributorsFeeling Myself Lyrics[Intro]\\nW...         0.859   0.533   \n",
       "\n",
       "      key  loudness  mode  speechiness  acousticness  instrumentalness  \\\n",
       "0       8    -9.211     1       0.0612       0.00206          0.000002   \n",
       "1       1   -11.628     0       0.0763       0.09860          0.000000   \n",
       "2       7   -12.759     1       0.0551       0.01180          0.000000   \n",
       "4       8    -4.843     0       0.0479       0.03100          0.001200   \n",
       "5       9    -5.260     1       0.0331       0.01840          0.000000   \n",
       "...   ...       ...   ...          ...           ...               ...   \n",
       "9243    1    -4.272     1       0.0572       0.04930          0.000012   \n",
       "9244    6    -6.096     0       0.0584       0.00112          0.000077   \n",
       "9245    9    -4.823     1       0.0969       0.10400          0.000006   \n",
       "9246    0    -5.465     0       0.0357       0.00994          0.003320   \n",
       "9247    6    -8.590     0       0.1560       0.02930          0.000000   \n",
       "\n",
       "      liveness  valence    tempo  duration_ms  time_signature  \\\n",
       "0       0.3430    0.861  185.978       143040               4   \n",
       "1       0.0765    0.896  143.017       170640               4   \n",
       "2       0.0473    0.964  121.987       223120               4   \n",
       "4       0.0821    0.861  172.638       200400               4   \n",
       "5       0.1900    0.407  174.056       239733               4   \n",
       "...        ...      ...      ...          ...             ...   \n",
       "9243    0.1050    0.728  130.075       251013               4   \n",
       "9244    0.0748    0.402  127.999       279506               4   \n",
       "9245    0.0377    0.450  106.024       287973               4   \n",
       "9246    0.1210    0.338  127.042       307493               4   \n",
       "9247    0.1380    0.514   96.453       253546               4   \n",
       "\n",
       "                                  genres  \n",
       "0     ['comedy rock', 'comic', 'parody']  \n",
       "1     ['comedy rock', 'comic', 'parody']  \n",
       "2     ['comedy rock', 'comic', 'parody']  \n",
       "4       ['boy band', 'dance pop', 'pop']  \n",
       "5       ['boy band', 'dance pop', 'pop']  \n",
       "...                                  ...  \n",
       "9243                ['dance pop', 'pop']  \n",
       "9244                ['dance pop', 'pop']  \n",
       "9245                ['dance pop', 'pop']  \n",
       "9246                ['dance pop', 'pop']  \n",
       "9247                ['dance pop', 'pop']  \n",
       "\n",
       "[9212 rows x 19 columns]"
      ]
     },
     "execution_count": 14,
     "metadata": {},
     "output_type": "execute_result"
    }
   ],
   "source": [
    "merged_data"
   ]
  },
  {
   "cell_type": "code",
   "execution_count": 15,
   "id": "d8843841",
   "metadata": {},
   "outputs": [
    {
     "data": {
      "text/plain": [
       "artist              0\n",
       "song                0\n",
       "peak-rank           0\n",
       "Hit or Not          0\n",
       "Lyrics_missing      0\n",
       "danceability        0\n",
       "energy              0\n",
       "key                 0\n",
       "loudness            0\n",
       "mode                0\n",
       "speechiness         0\n",
       "acousticness        0\n",
       "instrumentalness    0\n",
       "liveness            0\n",
       "valence             0\n",
       "tempo               0\n",
       "duration_ms         0\n",
       "time_signature      0\n",
       "genres              0\n",
       "dtype: int64"
      ]
     },
     "execution_count": 15,
     "metadata": {},
     "output_type": "execute_result"
    }
   ],
   "source": [
    "# Check for any null values in merged_data\n",
    "merged_data.isnull().sum()"
   ]
  },
  {
   "cell_type": "code",
   "execution_count": 16,
   "id": "943ed2ee-aeee-4b09-8322-449a2311475b",
   "metadata": {},
   "outputs": [],
   "source": [
    "# Rename the 'Lyrics_missing' to 'lyrics\n",
    "merged_data = merged_data.rename(columns={'Lyrics_missing': 'lyrics'})"
   ]
  },
  {
   "cell_type": "markdown",
   "id": "c6d653ae-29c5-4d95-b1f2-390558323193",
   "metadata": {},
   "source": [
    "## Export merged_data"
   ]
  },
  {
   "cell_type": "code",
   "execution_count": 17,
   "id": "85985258-2c8a-43ac-94a8-c3f9c20b207c",
   "metadata": {},
   "outputs": [],
   "source": [
    "merged_data.to_csv('./data/data_top100.csv', encoding='UTF8', index=False)"
   ]
  },
  {
   "cell_type": "code",
   "execution_count": null,
   "id": "eadb2deb-7471-4c77-abbf-73bd499ce9bd",
   "metadata": {},
   "outputs": [],
   "source": []
  }
 ],
 "metadata": {
  "colab": {
   "name": "",
   "version": ""
  },
  "kernelspec": {
   "display_name": "Python [conda env:dsi-sg]",
   "language": "python",
   "name": "conda-env-dsi-sg-py"
  },
  "language_info": {
   "codemirror_mode": {
    "name": "ipython",
    "version": 3
   },
   "file_extension": ".py",
   "mimetype": "text/x-python",
   "name": "python",
   "nbconvert_exporter": "python",
   "pygments_lexer": "ipython3",
   "version": "3.10.11"
  }
 },
 "nbformat": 4,
 "nbformat_minor": 5
}
